{
 "cells": [
  {
   "cell_type": "code",
   "execution_count": 1,
   "id": "e6cdfd13",
   "metadata": {
    "_cell_guid": "b1076dfc-b9ad-4769-8c92-a6c4dae69d19",
    "_uuid": "8f2839f25d086af736a60e9eeb907d3b93b6e0e5",
    "execution": {
     "iopub.execute_input": "2024-03-17T14:19:06.688696Z",
     "iopub.status.busy": "2024-03-17T14:19:06.688108Z",
     "iopub.status.idle": "2024-03-17T14:19:09.223382Z",
     "shell.execute_reply": "2024-03-17T14:19:09.221849Z"
    },
    "papermill": {
     "duration": 2.554223,
     "end_time": "2024-03-17T14:19:09.226716",
     "exception": false,
     "start_time": "2024-03-17T14:19:06.672493",
     "status": "completed"
    },
    "tags": []
   },
   "outputs": [
    {
     "name": "stdout",
     "output_type": "stream",
     "text": [
      "/kaggle/input/bangalore-house-prediction-processed-dataset/bangalore house price prediction cleaned.csv\n"
     ]
    }
   ],
   "source": [
    "import pandas as pd\n",
    "import numpy as np\n",
    "from sklearn.model_selection import train_test_split\n",
    "from sklearn.preprocessing import StandardScaler\n",
    "from sklearn.linear_model import LinearRegression\n",
    "import os\n",
    "for dirname, _, filenames in os.walk('/kaggle/input'):\n",
    "    for filename in filenames:\n",
    "        print(os.path.join(dirname, filename))"
   ]
  },
  {
   "cell_type": "code",
   "execution_count": 2,
   "id": "2ade8ccc",
   "metadata": {
    "execution": {
     "iopub.execute_input": "2024-03-17T14:19:09.252939Z",
     "iopub.status.busy": "2024-03-17T14:19:09.251510Z",
     "iopub.status.idle": "2024-03-17T14:19:09.433329Z",
     "shell.execute_reply": "2024-03-17T14:19:09.431995Z"
    },
    "papermill": {
     "duration": 0.197937,
     "end_time": "2024-03-17T14:19:09.436131",
     "exception": false,
     "start_time": "2024-03-17T14:19:09.238194",
     "status": "completed"
    },
    "tags": []
   },
   "outputs": [
    {
     "data": {
      "text/html": [
       "<div>\n",
       "<style scoped>\n",
       "    .dataframe tbody tr th:only-of-type {\n",
       "        vertical-align: middle;\n",
       "    }\n",
       "\n",
       "    .dataframe tbody tr th {\n",
       "        vertical-align: top;\n",
       "    }\n",
       "\n",
       "    .dataframe thead th {\n",
       "        text-align: right;\n",
       "    }\n",
       "</style>\n",
       "<table border=\"1\" class=\"dataframe\">\n",
       "  <thead>\n",
       "    <tr style=\"text-align: right;\">\n",
       "      <th></th>\n",
       "      <th>bath</th>\n",
       "      <th>balcony</th>\n",
       "      <th>price</th>\n",
       "      <th>total_sqft_int</th>\n",
       "      <th>bhk</th>\n",
       "      <th>price_per_sqft</th>\n",
       "      <th>area_typeSuper built-up  Area</th>\n",
       "      <th>area_typeBuilt-up  Area</th>\n",
       "      <th>area_typePlot  Area</th>\n",
       "      <th>availability_Ready To Move</th>\n",
       "      <th>...</th>\n",
       "      <th>location_Kalena Agrahara</th>\n",
       "      <th>location_Horamavu Agara</th>\n",
       "      <th>location_Vidyaranyapura</th>\n",
       "      <th>location_BTM 2nd Stage</th>\n",
       "      <th>location_Hebbal Kempapura</th>\n",
       "      <th>location_Hosur Road</th>\n",
       "      <th>location_Horamavu Banaswadi</th>\n",
       "      <th>location_Domlur</th>\n",
       "      <th>location_Mahadevpura</th>\n",
       "      <th>location_Tumkur Road</th>\n",
       "    </tr>\n",
       "  </thead>\n",
       "  <tbody>\n",
       "    <tr>\n",
       "      <th>0</th>\n",
       "      <td>3.0</td>\n",
       "      <td>2.0</td>\n",
       "      <td>150.0</td>\n",
       "      <td>1672.0</td>\n",
       "      <td>3</td>\n",
       "      <td>8971.291866</td>\n",
       "      <td>1</td>\n",
       "      <td>0</td>\n",
       "      <td>0</td>\n",
       "      <td>1</td>\n",
       "      <td>...</td>\n",
       "      <td>0</td>\n",
       "      <td>0</td>\n",
       "      <td>0</td>\n",
       "      <td>0</td>\n",
       "      <td>0</td>\n",
       "      <td>0</td>\n",
       "      <td>0</td>\n",
       "      <td>0</td>\n",
       "      <td>0</td>\n",
       "      <td>0</td>\n",
       "    </tr>\n",
       "    <tr>\n",
       "      <th>1</th>\n",
       "      <td>3.0</td>\n",
       "      <td>3.0</td>\n",
       "      <td>149.0</td>\n",
       "      <td>1750.0</td>\n",
       "      <td>3</td>\n",
       "      <td>8514.285714</td>\n",
       "      <td>0</td>\n",
       "      <td>1</td>\n",
       "      <td>0</td>\n",
       "      <td>1</td>\n",
       "      <td>...</td>\n",
       "      <td>0</td>\n",
       "      <td>0</td>\n",
       "      <td>0</td>\n",
       "      <td>0</td>\n",
       "      <td>0</td>\n",
       "      <td>0</td>\n",
       "      <td>0</td>\n",
       "      <td>0</td>\n",
       "      <td>0</td>\n",
       "      <td>0</td>\n",
       "    </tr>\n",
       "    <tr>\n",
       "      <th>2</th>\n",
       "      <td>3.0</td>\n",
       "      <td>2.0</td>\n",
       "      <td>150.0</td>\n",
       "      <td>1750.0</td>\n",
       "      <td>3</td>\n",
       "      <td>8571.428571</td>\n",
       "      <td>1</td>\n",
       "      <td>0</td>\n",
       "      <td>0</td>\n",
       "      <td>1</td>\n",
       "      <td>...</td>\n",
       "      <td>0</td>\n",
       "      <td>0</td>\n",
       "      <td>0</td>\n",
       "      <td>0</td>\n",
       "      <td>0</td>\n",
       "      <td>0</td>\n",
       "      <td>0</td>\n",
       "      <td>0</td>\n",
       "      <td>0</td>\n",
       "      <td>0</td>\n",
       "    </tr>\n",
       "    <tr>\n",
       "      <th>3</th>\n",
       "      <td>2.0</td>\n",
       "      <td>2.0</td>\n",
       "      <td>40.0</td>\n",
       "      <td>1250.0</td>\n",
       "      <td>2</td>\n",
       "      <td>3200.000000</td>\n",
       "      <td>1</td>\n",
       "      <td>0</td>\n",
       "      <td>0</td>\n",
       "      <td>1</td>\n",
       "      <td>...</td>\n",
       "      <td>0</td>\n",
       "      <td>0</td>\n",
       "      <td>0</td>\n",
       "      <td>0</td>\n",
       "      <td>0</td>\n",
       "      <td>0</td>\n",
       "      <td>0</td>\n",
       "      <td>0</td>\n",
       "      <td>0</td>\n",
       "      <td>0</td>\n",
       "    </tr>\n",
       "    <tr>\n",
       "      <th>4</th>\n",
       "      <td>2.0</td>\n",
       "      <td>2.0</td>\n",
       "      <td>83.0</td>\n",
       "      <td>1200.0</td>\n",
       "      <td>2</td>\n",
       "      <td>6916.666667</td>\n",
       "      <td>0</td>\n",
       "      <td>0</td>\n",
       "      <td>1</td>\n",
       "      <td>1</td>\n",
       "      <td>...</td>\n",
       "      <td>0</td>\n",
       "      <td>0</td>\n",
       "      <td>0</td>\n",
       "      <td>0</td>\n",
       "      <td>0</td>\n",
       "      <td>0</td>\n",
       "      <td>0</td>\n",
       "      <td>0</td>\n",
       "      <td>0</td>\n",
       "      <td>0</td>\n",
       "    </tr>\n",
       "  </tbody>\n",
       "</table>\n",
       "<p>5 rows × 108 columns</p>\n",
       "</div>"
      ],
      "text/plain": [
       "   bath  balcony  price  total_sqft_int  bhk  price_per_sqft  \\\n",
       "0   3.0      2.0  150.0          1672.0    3     8971.291866   \n",
       "1   3.0      3.0  149.0          1750.0    3     8514.285714   \n",
       "2   3.0      2.0  150.0          1750.0    3     8571.428571   \n",
       "3   2.0      2.0   40.0          1250.0    2     3200.000000   \n",
       "4   2.0      2.0   83.0          1200.0    2     6916.666667   \n",
       "\n",
       "   area_typeSuper built-up  Area  area_typeBuilt-up  Area  \\\n",
       "0                              1                        0   \n",
       "1                              0                        1   \n",
       "2                              1                        0   \n",
       "3                              1                        0   \n",
       "4                              0                        0   \n",
       "\n",
       "   area_typePlot  Area  availability_Ready To Move  ...  \\\n",
       "0                    0                           1  ...   \n",
       "1                    0                           1  ...   \n",
       "2                    0                           1  ...   \n",
       "3                    0                           1  ...   \n",
       "4                    1                           1  ...   \n",
       "\n",
       "   location_Kalena Agrahara  location_Horamavu Agara  location_Vidyaranyapura  \\\n",
       "0                         0                        0                        0   \n",
       "1                         0                        0                        0   \n",
       "2                         0                        0                        0   \n",
       "3                         0                        0                        0   \n",
       "4                         0                        0                        0   \n",
       "\n",
       "   location_BTM 2nd Stage  location_Hebbal Kempapura  location_Hosur Road  \\\n",
       "0                       0                          0                    0   \n",
       "1                       0                          0                    0   \n",
       "2                       0                          0                    0   \n",
       "3                       0                          0                    0   \n",
       "4                       0                          0                    0   \n",
       "\n",
       "   location_Horamavu Banaswadi  location_Domlur  location_Mahadevpura  \\\n",
       "0                            0                0                     0   \n",
       "1                            0                0                     0   \n",
       "2                            0                0                     0   \n",
       "3                            0                0                     0   \n",
       "4                            0                0                     0   \n",
       "\n",
       "   location_Tumkur Road  \n",
       "0                     0  \n",
       "1                     0  \n",
       "2                     0  \n",
       "3                     0  \n",
       "4                     0  \n",
       "\n",
       "[5 rows x 108 columns]"
      ]
     },
     "execution_count": 2,
     "metadata": {},
     "output_type": "execute_result"
    }
   ],
   "source": [
    "df = pd.read_csv('/kaggle/input/bangalore-house-prediction-processed-dataset/bangalore house price prediction cleaned.csv')\n",
    "df.head()"
   ]
  },
  {
   "cell_type": "code",
   "execution_count": 3,
   "id": "481b9c0b",
   "metadata": {
    "execution": {
     "iopub.execute_input": "2024-03-17T14:19:09.461907Z",
     "iopub.status.busy": "2024-03-17T14:19:09.461410Z",
     "iopub.status.idle": "2024-03-17T14:19:09.479309Z",
     "shell.execute_reply": "2024-03-17T14:19:09.478017Z"
    },
    "papermill": {
     "duration": 0.034085,
     "end_time": "2024-03-17T14:19:09.482100",
     "exception": false,
     "start_time": "2024-03-17T14:19:09.448015",
     "status": "completed"
    },
    "tags": []
   },
   "outputs": [
    {
     "name": "stdout",
     "output_type": "stream",
     "text": [
      "Shape of X = (7120, 107)\n",
      "Shape of y = (7120,)\n"
     ]
    }
   ],
   "source": [
    "X = df.drop('price', axis=1)\n",
    "y = df['price']\n",
    "\n",
    "print('Shape of X =', X.shape)\n",
    "print('Shape of y =', y.shape)"
   ]
  },
  {
   "cell_type": "code",
   "execution_count": 4,
   "id": "3781db42",
   "metadata": {
    "execution": {
     "iopub.execute_input": "2024-03-17T14:19:09.508375Z",
     "iopub.status.busy": "2024-03-17T14:19:09.507876Z",
     "iopub.status.idle": "2024-03-17T14:19:09.528190Z",
     "shell.execute_reply": "2024-03-17T14:19:09.526846Z"
    },
    "papermill": {
     "duration": 0.037192,
     "end_time": "2024-03-17T14:19:09.531282",
     "exception": false,
     "start_time": "2024-03-17T14:19:09.494090",
     "status": "completed"
    },
    "tags": []
   },
   "outputs": [
    {
     "name": "stdout",
     "output_type": "stream",
     "text": [
      "Shape of X_train = (7120, 107)\n",
      "Shape of y_train = (7120,)\n",
      "Shape of X_test = (7120, 107)\n",
      "Shape of y_test = (7120,)\n"
     ]
    }
   ],
   "source": [
    "X_train , X_test , y_train , y_test = train_test_split(X , y, test_size=0.2 , random_state=51)\n",
    "print('Shape of X_train =', X.shape)\n",
    "print('Shape of y_train =', y.shape)\n",
    "print('Shape of X_test =', X.shape)\n",
    "print('Shape of y_test =', y.shape)"
   ]
  },
  {
   "cell_type": "code",
   "execution_count": 5,
   "id": "2f9d28a9",
   "metadata": {
    "execution": {
     "iopub.execute_input": "2024-03-17T14:19:09.557788Z",
     "iopub.status.busy": "2024-03-17T14:19:09.556775Z",
     "iopub.status.idle": "2024-03-17T14:19:09.596591Z",
     "shell.execute_reply": "2024-03-17T14:19:09.595143Z"
    },
    "papermill": {
     "duration": 0.057647,
     "end_time": "2024-03-17T14:19:09.600637",
     "exception": false,
     "start_time": "2024-03-17T14:19:09.542990",
     "status": "completed"
    },
    "tags": []
   },
   "outputs": [],
   "source": [
    "sc = StandardScaler()\n",
    "sc.fit(X_train)\n",
    "X_train = sc.transform(X_train)\n",
    "X_test = sc.transform(X_test)"
   ]
  },
  {
   "cell_type": "code",
   "execution_count": 6,
   "id": "6a1b38f0",
   "metadata": {
    "execution": {
     "iopub.execute_input": "2024-03-17T14:19:09.627053Z",
     "iopub.status.busy": "2024-03-17T14:19:09.626289Z",
     "iopub.status.idle": "2024-03-17T14:19:09.703330Z",
     "shell.execute_reply": "2024-03-17T14:19:09.702208Z"
    },
    "papermill": {
     "duration": 0.094007,
     "end_time": "2024-03-17T14:19:09.706919",
     "exception": false,
     "start_time": "2024-03-17T14:19:09.612912",
     "status": "completed"
    },
    "tags": []
   },
   "outputs": [
    {
     "data": {
      "text/html": [
       "<style>#sk-container-id-1 {color: black;background-color: white;}#sk-container-id-1 pre{padding: 0;}#sk-container-id-1 div.sk-toggleable {background-color: white;}#sk-container-id-1 label.sk-toggleable__label {cursor: pointer;display: block;width: 100%;margin-bottom: 0;padding: 0.3em;box-sizing: border-box;text-align: center;}#sk-container-id-1 label.sk-toggleable__label-arrow:before {content: \"▸\";float: left;margin-right: 0.25em;color: #696969;}#sk-container-id-1 label.sk-toggleable__label-arrow:hover:before {color: black;}#sk-container-id-1 div.sk-estimator:hover label.sk-toggleable__label-arrow:before {color: black;}#sk-container-id-1 div.sk-toggleable__content {max-height: 0;max-width: 0;overflow: hidden;text-align: left;background-color: #f0f8ff;}#sk-container-id-1 div.sk-toggleable__content pre {margin: 0.2em;color: black;border-radius: 0.25em;background-color: #f0f8ff;}#sk-container-id-1 input.sk-toggleable__control:checked~div.sk-toggleable__content {max-height: 200px;max-width: 100%;overflow: auto;}#sk-container-id-1 input.sk-toggleable__control:checked~label.sk-toggleable__label-arrow:before {content: \"▾\";}#sk-container-id-1 div.sk-estimator input.sk-toggleable__control:checked~label.sk-toggleable__label {background-color: #d4ebff;}#sk-container-id-1 div.sk-label input.sk-toggleable__control:checked~label.sk-toggleable__label {background-color: #d4ebff;}#sk-container-id-1 input.sk-hidden--visually {border: 0;clip: rect(1px 1px 1px 1px);clip: rect(1px, 1px, 1px, 1px);height: 1px;margin: -1px;overflow: hidden;padding: 0;position: absolute;width: 1px;}#sk-container-id-1 div.sk-estimator {font-family: monospace;background-color: #f0f8ff;border: 1px dotted black;border-radius: 0.25em;box-sizing: border-box;margin-bottom: 0.5em;}#sk-container-id-1 div.sk-estimator:hover {background-color: #d4ebff;}#sk-container-id-1 div.sk-parallel-item::after {content: \"\";width: 100%;border-bottom: 1px solid gray;flex-grow: 1;}#sk-container-id-1 div.sk-label:hover label.sk-toggleable__label {background-color: #d4ebff;}#sk-container-id-1 div.sk-serial::before {content: \"\";position: absolute;border-left: 1px solid gray;box-sizing: border-box;top: 0;bottom: 0;left: 50%;z-index: 0;}#sk-container-id-1 div.sk-serial {display: flex;flex-direction: column;align-items: center;background-color: white;padding-right: 0.2em;padding-left: 0.2em;position: relative;}#sk-container-id-1 div.sk-item {position: relative;z-index: 1;}#sk-container-id-1 div.sk-parallel {display: flex;align-items: stretch;justify-content: center;background-color: white;position: relative;}#sk-container-id-1 div.sk-item::before, #sk-container-id-1 div.sk-parallel-item::before {content: \"\";position: absolute;border-left: 1px solid gray;box-sizing: border-box;top: 0;bottom: 0;left: 50%;z-index: -1;}#sk-container-id-1 div.sk-parallel-item {display: flex;flex-direction: column;z-index: 1;position: relative;background-color: white;}#sk-container-id-1 div.sk-parallel-item:first-child::after {align-self: flex-end;width: 50%;}#sk-container-id-1 div.sk-parallel-item:last-child::after {align-self: flex-start;width: 50%;}#sk-container-id-1 div.sk-parallel-item:only-child::after {width: 0;}#sk-container-id-1 div.sk-dashed-wrapped {border: 1px dashed gray;margin: 0 0.4em 0.5em 0.4em;box-sizing: border-box;padding-bottom: 0.4em;background-color: white;}#sk-container-id-1 div.sk-label label {font-family: monospace;font-weight: bold;display: inline-block;line-height: 1.2em;}#sk-container-id-1 div.sk-label-container {text-align: center;}#sk-container-id-1 div.sk-container {/* jupyter's `normalize.less` sets `[hidden] { display: none; }` but bootstrap.min.css set `[hidden] { display: none !important; }` so we also need the `!important` here to be able to override the default hidden behavior on the sphinx rendered scikit-learn.org. See: https://github.com/scikit-learn/scikit-learn/issues/21755 */display: inline-block !important;position: relative;}#sk-container-id-1 div.sk-text-repr-fallback {display: none;}</style><div id=\"sk-container-id-1\" class=\"sk-top-container\"><div class=\"sk-text-repr-fallback\"><pre>LinearRegression()</pre><b>In a Jupyter environment, please rerun this cell to show the HTML representation or trust the notebook. <br />On GitHub, the HTML representation is unable to render, please try loading this page with nbviewer.org.</b></div><div class=\"sk-container\" hidden><div class=\"sk-item\"><div class=\"sk-estimator sk-toggleable\"><input class=\"sk-toggleable__control sk-hidden--visually\" id=\"sk-estimator-id-1\" type=\"checkbox\" checked><label for=\"sk-estimator-id-1\" class=\"sk-toggleable__label sk-toggleable__label-arrow\">LinearRegression</label><div class=\"sk-toggleable__content\"><pre>LinearRegression()</pre></div></div></div></div></div>"
      ],
      "text/plain": [
       "LinearRegression()"
      ]
     },
     "execution_count": 6,
     "metadata": {},
     "output_type": "execute_result"
    }
   ],
   "source": [
    "lr = LinearRegression()\n",
    "lr.fit(X_train,y_train)"
   ]
  },
  {
   "cell_type": "code",
   "execution_count": 7,
   "id": "02a55bec",
   "metadata": {
    "execution": {
     "iopub.execute_input": "2024-03-17T14:19:09.757387Z",
     "iopub.status.busy": "2024-03-17T14:19:09.756684Z",
     "iopub.status.idle": "2024-03-17T14:19:09.766210Z",
     "shell.execute_reply": "2024-03-17T14:19:09.765103Z"
    },
    "papermill": {
     "duration": 0.039437,
     "end_time": "2024-03-17T14:19:09.770337",
     "exception": false,
     "start_time": "2024-03-17T14:19:09.730900",
     "status": "completed"
    },
    "tags": []
   },
   "outputs": [
    {
     "data": {
      "text/plain": [
       "95.0802729985955"
      ]
     },
     "execution_count": 7,
     "metadata": {},
     "output_type": "execute_result"
    }
   ],
   "source": [
    "lr.intercept_"
   ]
  },
  {
   "cell_type": "code",
   "execution_count": 8,
   "id": "41c69f3d",
   "metadata": {
    "execution": {
     "iopub.execute_input": "2024-03-17T14:19:09.817605Z",
     "iopub.status.busy": "2024-03-17T14:19:09.817192Z",
     "iopub.status.idle": "2024-03-17T14:19:09.825660Z",
     "shell.execute_reply": "2024-03-17T14:19:09.824555Z"
    },
    "papermill": {
     "duration": 0.030695,
     "end_time": "2024-03-17T14:19:09.827979",
     "exception": false,
     "start_time": "2024-03-17T14:19:09.797284",
     "status": "completed"
    },
    "tags": []
   },
   "outputs": [
    {
     "data": {
      "text/plain": [
       "array([ 0.71301986,  0.0112734 ,  0.30202307,  0.65677518, -0.48064341,\n",
       "       -1.7385623 ,  2.11587407, -0.25430867,  0.51007548, -0.18373025,\n",
       "       -0.16389438, -0.1473229 , -0.13023539, -0.12812824, -0.12598816,\n",
       "       -0.12454231, -0.12953656, -0.12381344, -0.12010681, -0.11551113,\n",
       "       -0.10992018, -0.10909925, -0.10660036, -0.11234866, -0.09315135,\n",
       "       -0.08618799, -0.08923672, -0.09023078, -0.08721571, -0.09023078,\n",
       "       -0.08721571, -0.08195215, -0.08195215, -0.07633675, -0.0751646 ,\n",
       "       -0.08085949, -0.0739743 , -0.07975227, -0.07153563, -0.0751646 ,\n",
       "       -0.0677166 , -0.08085949, -0.07153563, -0.07862985, -0.0751646 ,\n",
       "       -0.07862985, -0.06504853, -0.0751646 , -0.06901264, -0.0751646 ,\n",
       "       -0.06901264, -0.07028523, -0.07276497, -0.07028523, -0.06367332,\n",
       "       -0.06226825, -0.06226825, -0.06639573, -0.06504853, -0.05935999,\n",
       "       -0.06083125, -0.06639573, -0.06639573, -0.06226825, -0.06367332,\n",
       "       -0.05935999, -0.06639573, -0.06367332, -0.06226825, -0.06226825,\n",
       "       -0.05935999, -0.05935999, -0.05935999, -0.05630391, -0.05935999,\n",
       "       -0.05785186, -0.05935999, -0.05935999, -0.06083125, -0.06083125,\n",
       "       -0.05471275, -0.06083125, -0.06226825, -0.05935999, -0.05935999,\n",
       "       -0.06226825, -0.06226825, -0.05785186, -0.06504853, -0.06226825,\n",
       "       -0.06083125, -0.05935999, -0.05307449, -0.05630391, -0.06226825,\n",
       "       -0.05471275, -0.05935999, -0.05471275, -0.05471275, -0.05138463,\n",
       "       -0.05307449, -0.05307449, -0.05471275, -0.05471275, -0.05630391,\n",
       "       -0.05630391, -0.05138463])"
      ]
     },
     "execution_count": 8,
     "metadata": {},
     "output_type": "execute_result"
    }
   ],
   "source": [
    "X_test[0, :]"
   ]
  },
  {
   "cell_type": "code",
   "execution_count": 9,
   "id": "fbe9f905",
   "metadata": {
    "execution": {
     "iopub.execute_input": "2024-03-17T14:19:09.853566Z",
     "iopub.status.busy": "2024-03-17T14:19:09.852534Z",
     "iopub.status.idle": "2024-03-17T14:19:09.860387Z",
     "shell.execute_reply": "2024-03-17T14:19:09.859228Z"
    },
    "papermill": {
     "duration": 0.02308,
     "end_time": "2024-03-17T14:19:09.862591",
     "exception": false,
     "start_time": "2024-03-17T14:19:09.839511",
     "status": "completed"
    },
    "tags": []
   },
   "outputs": [
    {
     "data": {
      "text/plain": [
       "array([76.90661876])"
      ]
     },
     "execution_count": 9,
     "metadata": {},
     "output_type": "execute_result"
    }
   ],
   "source": [
    "lr.predict([X_test[0, :]])"
   ]
  },
  {
   "cell_type": "code",
   "execution_count": 10,
   "id": "d5504d13",
   "metadata": {
    "execution": {
     "iopub.execute_input": "2024-03-17T14:19:09.887925Z",
     "iopub.status.busy": "2024-03-17T14:19:09.887494Z",
     "iopub.status.idle": "2024-03-17T14:19:09.908377Z",
     "shell.execute_reply": "2024-03-17T14:19:09.906896Z"
    },
    "papermill": {
     "duration": 0.0381,
     "end_time": "2024-03-17T14:19:09.912537",
     "exception": false,
     "start_time": "2024-03-17T14:19:09.874437",
     "status": "completed"
    },
    "tags": []
   },
   "outputs": [
    {
     "data": {
      "text/plain": [
       "array([ 76.90661876,  15.25005377, 113.6828165 , ...,  21.30296864,\n",
       "        71.43462962, 230.0414626 ])"
      ]
     },
     "execution_count": 10,
     "metadata": {},
     "output_type": "execute_result"
    }
   ],
   "source": [
    "lr.predict(X_test)"
   ]
  },
  {
   "cell_type": "code",
   "execution_count": 11,
   "id": "2ed7181f",
   "metadata": {
    "execution": {
     "iopub.execute_input": "2024-03-17T14:19:09.966572Z",
     "iopub.status.busy": "2024-03-17T14:19:09.965797Z",
     "iopub.status.idle": "2024-03-17T14:19:09.979856Z",
     "shell.execute_reply": "2024-03-17T14:19:09.978456Z"
    },
    "papermill": {
     "duration": 0.04506,
     "end_time": "2024-03-17T14:19:09.983686",
     "exception": false,
     "start_time": "2024-03-17T14:19:09.938626",
     "status": "completed"
    },
    "tags": []
   },
   "outputs": [
    {
     "data": {
      "text/plain": [
       "2435     80.00\n",
       "3113     40.00\n",
       "426     120.00\n",
       "1124     79.00\n",
       "1161     45.00\n",
       "         ...  \n",
       "2078     28.34\n",
       "6855     84.00\n",
       "4381     32.00\n",
       "3862     63.00\n",
       "43      180.00\n",
       "Name: price, Length: 1424, dtype: float64"
      ]
     },
     "execution_count": 11,
     "metadata": {},
     "output_type": "execute_result"
    }
   ],
   "source": [
    "y_test"
   ]
  },
  {
   "cell_type": "code",
   "execution_count": 12,
   "id": "86908989",
   "metadata": {
    "execution": {
     "iopub.execute_input": "2024-03-17T14:19:10.027772Z",
     "iopub.status.busy": "2024-03-17T14:19:10.026917Z",
     "iopub.status.idle": "2024-03-17T14:19:10.040545Z",
     "shell.execute_reply": "2024-03-17T14:19:10.039113Z"
    },
    "papermill": {
     "duration": 0.034928,
     "end_time": "2024-03-17T14:19:10.044362",
     "exception": false,
     "start_time": "2024-03-17T14:19:10.009434",
     "status": "completed"
    },
    "tags": []
   },
   "outputs": [
    {
     "data": {
      "text/plain": [
       "0.7903837092682255"
      ]
     },
     "execution_count": 12,
     "metadata": {},
     "output_type": "execute_result"
    }
   ],
   "source": [
    "lr.score(X_test,y_test)"
   ]
  },
  {
   "cell_type": "code",
   "execution_count": 13,
   "id": "c22128b6",
   "metadata": {
    "execution": {
     "iopub.execute_input": "2024-03-17T14:19:10.099981Z",
     "iopub.status.busy": "2024-03-17T14:19:10.098247Z",
     "iopub.status.idle": "2024-03-17T14:19:10.107492Z",
     "shell.execute_reply": "2024-03-17T14:19:10.105738Z"
    },
    "papermill": {
     "duration": 0.041854,
     "end_time": "2024-03-17T14:19:10.112313",
     "exception": false,
     "start_time": "2024-03-17T14:19:10.070459",
     "status": "completed"
    },
    "tags": []
   },
   "outputs": [],
   "source": [
    "from sklearn.linear_model import Ridge, Lasso"
   ]
  },
  {
   "cell_type": "code",
   "execution_count": 14,
   "id": "b271d065",
   "metadata": {
    "execution": {
     "iopub.execute_input": "2024-03-17T14:19:10.162343Z",
     "iopub.status.busy": "2024-03-17T14:19:10.161971Z",
     "iopub.status.idle": "2024-03-17T14:19:10.206896Z",
     "shell.execute_reply": "2024-03-17T14:19:10.205373Z"
    },
    "papermill": {
     "duration": 0.072503,
     "end_time": "2024-03-17T14:19:10.210894",
     "exception": false,
     "start_time": "2024-03-17T14:19:10.138391",
     "status": "completed"
    },
    "tags": []
   },
   "outputs": [
    {
     "data": {
      "text/plain": [
       "0.7905686374336628"
      ]
     },
     "execution_count": 14,
     "metadata": {},
     "output_type": "execute_result"
    }
   ],
   "source": [
    "rd = Ridge()\n",
    "\n",
    "rd.fit(X_train,y_train)\n",
    "rd.score(X_test,y_test)"
   ]
  },
  {
   "cell_type": "code",
   "execution_count": 15,
   "id": "e803c7d3",
   "metadata": {
    "execution": {
     "iopub.execute_input": "2024-03-17T14:19:10.312584Z",
     "iopub.status.busy": "2024-03-17T14:19:10.311911Z",
     "iopub.status.idle": "2024-03-17T14:19:10.374619Z",
     "shell.execute_reply": "2024-03-17T14:19:10.372907Z"
    },
    "papermill": {
     "duration": 0.128526,
     "end_time": "2024-03-17T14:19:10.379242",
     "exception": false,
     "start_time": "2024-03-17T14:19:10.250716",
     "status": "completed"
    },
    "tags": []
   },
   "outputs": [
    {
     "data": {
      "text/plain": [
       "0.8036373003525774"
      ]
     },
     "execution_count": 15,
     "metadata": {},
     "output_type": "execute_result"
    }
   ],
   "source": [
    "ls = Lasso()\n",
    "\n",
    "ls.fit(X_train,y_train)\n",
    "ls.score(X_test,y_test)"
   ]
  },
  {
   "cell_type": "code",
   "execution_count": 16,
   "id": "807ff875",
   "metadata": {
    "execution": {
     "iopub.execute_input": "2024-03-17T14:19:10.469848Z",
     "iopub.status.busy": "2024-03-17T14:19:10.468956Z",
     "iopub.status.idle": "2024-03-17T14:19:10.524693Z",
     "shell.execute_reply": "2024-03-17T14:19:10.522971Z"
    },
    "papermill": {
     "duration": 0.105047,
     "end_time": "2024-03-17T14:19:10.531873",
     "exception": false,
     "start_time": "2024-03-17T14:19:10.426826",
     "status": "completed"
    },
    "tags": []
   },
   "outputs": [
    {
     "data": {
      "text/plain": [
       "0.7907530260397942"
      ]
     },
     "execution_count": 16,
     "metadata": {},
     "output_type": "execute_result"
    }
   ],
   "source": [
    "rd2 = Ridge(alpha=2)\n",
    "\n",
    "rd2.fit(X_train,y_train)\n",
    "rd2.score(X_test,y_test)"
   ]
  },
  {
   "cell_type": "code",
   "execution_count": 17,
   "id": "afad7087",
   "metadata": {
    "execution": {
     "iopub.execute_input": "2024-03-17T14:19:10.637293Z",
     "iopub.status.busy": "2024-03-17T14:19:10.636012Z",
     "iopub.status.idle": "2024-03-17T14:19:10.686255Z",
     "shell.execute_reply": "2024-03-17T14:19:10.684312Z"
    },
    "papermill": {
     "duration": 0.09334,
     "end_time": "2024-03-17T14:19:10.690155",
     "exception": false,
     "start_time": "2024-03-17T14:19:10.596815",
     "status": "completed"
    },
    "tags": []
   },
   "outputs": [
    {
     "data": {
      "text/plain": [
       "0.8160181533703601"
      ]
     },
     "execution_count": 17,
     "metadata": {},
     "output_type": "execute_result"
    }
   ],
   "source": [
    "ls2 = Lasso(alpha=2)\n",
    "\n",
    "ls2.fit(X_train,y_train)\n",
    "ls2.score(X_test,y_test)"
   ]
  },
  {
   "cell_type": "code",
   "execution_count": 18,
   "id": "f4936231",
   "metadata": {
    "execution": {
     "iopub.execute_input": "2024-03-17T14:19:10.792222Z",
     "iopub.status.busy": "2024-03-17T14:19:10.791357Z",
     "iopub.status.idle": "2024-03-17T14:19:10.804669Z",
     "shell.execute_reply": "2024-03-17T14:19:10.803625Z"
    },
    "papermill": {
     "duration": 0.051007,
     "end_time": "2024-03-17T14:19:10.808458",
     "exception": false,
     "start_time": "2024-03-17T14:19:10.757451",
     "status": "completed"
    },
    "tags": []
   },
   "outputs": [
    {
     "data": {
      "text/plain": [
       "array([ 76.90661876,  15.25005377, 113.6828165 , ...,  21.30296864,\n",
       "        71.43462962, 230.0414626 ])"
      ]
     },
     "execution_count": 18,
     "metadata": {},
     "output_type": "execute_result"
    }
   ],
   "source": [
    "y_pred = lr.predict(X_test)\n",
    "y_pred"
   ]
  },
  {
   "cell_type": "code",
   "execution_count": 19,
   "id": "c44b342e",
   "metadata": {
    "execution": {
     "iopub.execute_input": "2024-03-17T14:19:10.920142Z",
     "iopub.status.busy": "2024-03-17T14:19:10.918921Z",
     "iopub.status.idle": "2024-03-17T14:19:10.928985Z",
     "shell.execute_reply": "2024-03-17T14:19:10.927955Z"
    },
    "papermill": {
     "duration": 0.068461,
     "end_time": "2024-03-17T14:19:10.931826",
     "exception": false,
     "start_time": "2024-03-17T14:19:10.863365",
     "status": "completed"
    },
    "tags": []
   },
   "outputs": [
    {
     "data": {
      "text/plain": [
       "2435     80.00\n",
       "3113     40.00\n",
       "426     120.00\n",
       "1124     79.00\n",
       "1161     45.00\n",
       "         ...  \n",
       "2078     28.34\n",
       "6855     84.00\n",
       "4381     32.00\n",
       "3862     63.00\n",
       "43      180.00\n",
       "Name: price, Length: 1424, dtype: float64"
      ]
     },
     "execution_count": 19,
     "metadata": {},
     "output_type": "execute_result"
    }
   ],
   "source": [
    "y_test"
   ]
  },
  {
   "cell_type": "code",
   "execution_count": 20,
   "id": "3a22a275",
   "metadata": {
    "execution": {
     "iopub.execute_input": "2024-03-17T14:19:10.962479Z",
     "iopub.status.busy": "2024-03-17T14:19:10.961563Z",
     "iopub.status.idle": "2024-03-17T14:19:10.966770Z",
     "shell.execute_reply": "2024-03-17T14:19:10.965786Z"
    },
    "papermill": {
     "duration": 0.022685,
     "end_time": "2024-03-17T14:19:10.968961",
     "exception": false,
     "start_time": "2024-03-17T14:19:10.946276",
     "status": "completed"
    },
    "tags": []
   },
   "outputs": [],
   "source": [
    "from sklearn.metrics import mean_squared_error"
   ]
  },
  {
   "cell_type": "code",
   "execution_count": 21,
   "id": "2182da8c",
   "metadata": {
    "execution": {
     "iopub.execute_input": "2024-03-17T14:19:10.997772Z",
     "iopub.status.busy": "2024-03-17T14:19:10.997383Z",
     "iopub.status.idle": "2024-03-17T14:19:11.004674Z",
     "shell.execute_reply": "2024-03-17T14:19:11.003348Z"
    },
    "papermill": {
     "duration": 0.024491,
     "end_time": "2024-03-17T14:19:11.006943",
     "exception": false,
     "start_time": "2024-03-17T14:19:10.982452",
     "status": "completed"
    },
    "tags": []
   },
   "outputs": [
    {
     "name": "stdout",
     "output_type": "stream",
     "text": [
      "MSE =  4211.806905823323\n",
      "RMSE =  64.89843531105602\n"
     ]
    }
   ],
   "source": [
    "mse = mean_squared_error(y_test,y_pred)\n",
    "rmse = np.sqrt(mse)\n",
    "print('MSE = ' , mse)\n",
    "print('RMSE = ' ,rmse)"
   ]
  },
  {
   "cell_type": "code",
   "execution_count": 22,
   "id": "87381aa3",
   "metadata": {
    "execution": {
     "iopub.execute_input": "2024-03-17T14:19:11.038072Z",
     "iopub.status.busy": "2024-03-17T14:19:11.037288Z",
     "iopub.status.idle": "2024-03-17T14:19:11.042355Z",
     "shell.execute_reply": "2024-03-17T14:19:11.041196Z"
    },
    "papermill": {
     "duration": 0.022551,
     "end_time": "2024-03-17T14:19:11.044724",
     "exception": false,
     "start_time": "2024-03-17T14:19:11.022173",
     "status": "completed"
    },
    "tags": []
   },
   "outputs": [],
   "source": [
    "from sklearn.metrics import r2_score"
   ]
  },
  {
   "cell_type": "code",
   "execution_count": 23,
   "id": "d26ff088",
   "metadata": {
    "execution": {
     "iopub.execute_input": "2024-03-17T14:19:11.081164Z",
     "iopub.status.busy": "2024-03-17T14:19:11.080256Z",
     "iopub.status.idle": "2024-03-17T14:19:11.088858Z",
     "shell.execute_reply": "2024-03-17T14:19:11.088013Z"
    },
    "papermill": {
     "duration": 0.032967,
     "end_time": "2024-03-17T14:19:11.091222",
     "exception": false,
     "start_time": "2024-03-17T14:19:11.058255",
     "status": "completed"
    },
    "tags": []
   },
   "outputs": [
    {
     "data": {
      "text/plain": [
       "0.7903837092682255"
      ]
     },
     "execution_count": 23,
     "metadata": {},
     "output_type": "execute_result"
    }
   ],
   "source": [
    "r2_score(y_test,y_pred)"
   ]
  },
  {
   "cell_type": "code",
   "execution_count": 24,
   "id": "fa8dc5b0",
   "metadata": {
    "execution": {
     "iopub.execute_input": "2024-03-17T14:19:11.119673Z",
     "iopub.status.busy": "2024-03-17T14:19:11.119311Z",
     "iopub.status.idle": "2024-03-17T14:19:11.124158Z",
     "shell.execute_reply": "2024-03-17T14:19:11.123112Z"
    },
    "papermill": {
     "duration": 0.021883,
     "end_time": "2024-03-17T14:19:11.126803",
     "exception": false,
     "start_time": "2024-03-17T14:19:11.104920",
     "status": "completed"
    },
    "tags": []
   },
   "outputs": [],
   "source": [
    "from sklearn.linear_model import LinearRegression\n",
    "from sklearn.preprocessing import PolynomialFeatures"
   ]
  },
  {
   "cell_type": "code",
   "execution_count": 25,
   "id": "27760894",
   "metadata": {
    "execution": {
     "iopub.execute_input": "2024-03-17T14:19:11.165121Z",
     "iopub.status.busy": "2024-03-17T14:19:11.164678Z",
     "iopub.status.idle": "2024-03-17T14:19:11.465775Z",
     "shell.execute_reply": "2024-03-17T14:19:11.464841Z"
    },
    "papermill": {
     "duration": 0.325436,
     "end_time": "2024-03-17T14:19:11.468794",
     "exception": false,
     "start_time": "2024-03-17T14:19:11.143358",
     "status": "completed"
    },
    "tags": []
   },
   "outputs": [],
   "source": [
    "poly_reg = PolynomialFeatures(degree=2)\n",
    "poly_reg.fit(X_train)\n",
    "X_train_poly = poly_reg.transform(X_train)\n",
    "X_test_poly = poly_reg.transform(X_test)"
   ]
  },
  {
   "cell_type": "code",
   "execution_count": 26,
   "id": "2d90a860",
   "metadata": {
    "execution": {
     "iopub.execute_input": "2024-03-17T14:19:11.500663Z",
     "iopub.status.busy": "2024-03-17T14:19:11.500033Z",
     "iopub.status.idle": "2024-03-17T14:19:11.505880Z",
     "shell.execute_reply": "2024-03-17T14:19:11.505040Z"
    },
    "papermill": {
     "duration": 0.023086,
     "end_time": "2024-03-17T14:19:11.508412",
     "exception": false,
     "start_time": "2024-03-17T14:19:11.485326",
     "status": "completed"
    },
    "tags": []
   },
   "outputs": [
    {
     "data": {
      "text/plain": [
       "((5696, 5886), (1424, 5886))"
      ]
     },
     "execution_count": 26,
     "metadata": {},
     "output_type": "execute_result"
    }
   ],
   "source": [
    "X_train_poly.shape , X_test_poly.shape"
   ]
  },
  {
   "cell_type": "code",
   "execution_count": 27,
   "id": "52f659f7",
   "metadata": {
    "execution": {
     "iopub.execute_input": "2024-03-17T14:19:11.541695Z",
     "iopub.status.busy": "2024-03-17T14:19:11.539876Z",
     "iopub.status.idle": "2024-03-17T14:20:04.588377Z",
     "shell.execute_reply": "2024-03-17T14:20:04.586786Z"
    },
    "papermill": {
     "duration": 53.097404,
     "end_time": "2024-03-17T14:20:04.621989",
     "exception": false,
     "start_time": "2024-03-17T14:19:11.524585",
     "status": "completed"
    },
    "tags": []
   },
   "outputs": [
    {
     "data": {
      "text/html": [
       "<style>#sk-container-id-2 {color: black;background-color: white;}#sk-container-id-2 pre{padding: 0;}#sk-container-id-2 div.sk-toggleable {background-color: white;}#sk-container-id-2 label.sk-toggleable__label {cursor: pointer;display: block;width: 100%;margin-bottom: 0;padding: 0.3em;box-sizing: border-box;text-align: center;}#sk-container-id-2 label.sk-toggleable__label-arrow:before {content: \"▸\";float: left;margin-right: 0.25em;color: #696969;}#sk-container-id-2 label.sk-toggleable__label-arrow:hover:before {color: black;}#sk-container-id-2 div.sk-estimator:hover label.sk-toggleable__label-arrow:before {color: black;}#sk-container-id-2 div.sk-toggleable__content {max-height: 0;max-width: 0;overflow: hidden;text-align: left;background-color: #f0f8ff;}#sk-container-id-2 div.sk-toggleable__content pre {margin: 0.2em;color: black;border-radius: 0.25em;background-color: #f0f8ff;}#sk-container-id-2 input.sk-toggleable__control:checked~div.sk-toggleable__content {max-height: 200px;max-width: 100%;overflow: auto;}#sk-container-id-2 input.sk-toggleable__control:checked~label.sk-toggleable__label-arrow:before {content: \"▾\";}#sk-container-id-2 div.sk-estimator input.sk-toggleable__control:checked~label.sk-toggleable__label {background-color: #d4ebff;}#sk-container-id-2 div.sk-label input.sk-toggleable__control:checked~label.sk-toggleable__label {background-color: #d4ebff;}#sk-container-id-2 input.sk-hidden--visually {border: 0;clip: rect(1px 1px 1px 1px);clip: rect(1px, 1px, 1px, 1px);height: 1px;margin: -1px;overflow: hidden;padding: 0;position: absolute;width: 1px;}#sk-container-id-2 div.sk-estimator {font-family: monospace;background-color: #f0f8ff;border: 1px dotted black;border-radius: 0.25em;box-sizing: border-box;margin-bottom: 0.5em;}#sk-container-id-2 div.sk-estimator:hover {background-color: #d4ebff;}#sk-container-id-2 div.sk-parallel-item::after {content: \"\";width: 100%;border-bottom: 1px solid gray;flex-grow: 1;}#sk-container-id-2 div.sk-label:hover label.sk-toggleable__label {background-color: #d4ebff;}#sk-container-id-2 div.sk-serial::before {content: \"\";position: absolute;border-left: 1px solid gray;box-sizing: border-box;top: 0;bottom: 0;left: 50%;z-index: 0;}#sk-container-id-2 div.sk-serial {display: flex;flex-direction: column;align-items: center;background-color: white;padding-right: 0.2em;padding-left: 0.2em;position: relative;}#sk-container-id-2 div.sk-item {position: relative;z-index: 1;}#sk-container-id-2 div.sk-parallel {display: flex;align-items: stretch;justify-content: center;background-color: white;position: relative;}#sk-container-id-2 div.sk-item::before, #sk-container-id-2 div.sk-parallel-item::before {content: \"\";position: absolute;border-left: 1px solid gray;box-sizing: border-box;top: 0;bottom: 0;left: 50%;z-index: -1;}#sk-container-id-2 div.sk-parallel-item {display: flex;flex-direction: column;z-index: 1;position: relative;background-color: white;}#sk-container-id-2 div.sk-parallel-item:first-child::after {align-self: flex-end;width: 50%;}#sk-container-id-2 div.sk-parallel-item:last-child::after {align-self: flex-start;width: 50%;}#sk-container-id-2 div.sk-parallel-item:only-child::after {width: 0;}#sk-container-id-2 div.sk-dashed-wrapped {border: 1px dashed gray;margin: 0 0.4em 0.5em 0.4em;box-sizing: border-box;padding-bottom: 0.4em;background-color: white;}#sk-container-id-2 div.sk-label label {font-family: monospace;font-weight: bold;display: inline-block;line-height: 1.2em;}#sk-container-id-2 div.sk-label-container {text-align: center;}#sk-container-id-2 div.sk-container {/* jupyter's `normalize.less` sets `[hidden] { display: none; }` but bootstrap.min.css set `[hidden] { display: none !important; }` so we also need the `!important` here to be able to override the default hidden behavior on the sphinx rendered scikit-learn.org. See: https://github.com/scikit-learn/scikit-learn/issues/21755 */display: inline-block !important;position: relative;}#sk-container-id-2 div.sk-text-repr-fallback {display: none;}</style><div id=\"sk-container-id-2\" class=\"sk-top-container\"><div class=\"sk-text-repr-fallback\"><pre>LinearRegression()</pre><b>In a Jupyter environment, please rerun this cell to show the HTML representation or trust the notebook. <br />On GitHub, the HTML representation is unable to render, please try loading this page with nbviewer.org.</b></div><div class=\"sk-container\" hidden><div class=\"sk-item\"><div class=\"sk-estimator sk-toggleable\"><input class=\"sk-toggleable__control sk-hidden--visually\" id=\"sk-estimator-id-2\" type=\"checkbox\" checked><label for=\"sk-estimator-id-2\" class=\"sk-toggleable__label sk-toggleable__label-arrow\">LinearRegression</label><div class=\"sk-toggleable__content\"><pre>LinearRegression()</pre></div></div></div></div></div>"
      ],
      "text/plain": [
       "LinearRegression()"
      ]
     },
     "execution_count": 27,
     "metadata": {},
     "output_type": "execute_result"
    }
   ],
   "source": [
    "lr =LinearRegression()\n",
    "lr.fit(X_train_poly,y_train)"
   ]
  },
  {
   "cell_type": "code",
   "execution_count": 28,
   "id": "63d3400b",
   "metadata": {
    "execution": {
     "iopub.execute_input": "2024-03-17T14:20:04.673245Z",
     "iopub.status.busy": "2024-03-17T14:20:04.672843Z",
     "iopub.status.idle": "2024-03-17T14:20:04.695428Z",
     "shell.execute_reply": "2024-03-17T14:20:04.693957Z"
    },
    "papermill": {
     "duration": 0.049477,
     "end_time": "2024-03-17T14:20:04.701026",
     "exception": false,
     "start_time": "2024-03-17T14:20:04.651549",
     "status": "completed"
    },
    "tags": []
   },
   "outputs": [
    {
     "data": {
      "text/plain": [
       "0.999768426975014"
      ]
     },
     "execution_count": 28,
     "metadata": {},
     "output_type": "execute_result"
    }
   ],
   "source": [
    "lr.score(X_test_poly,y_test)"
   ]
  },
  {
   "cell_type": "code",
   "execution_count": 29,
   "id": "cade639e",
   "metadata": {
    "execution": {
     "iopub.execute_input": "2024-03-17T14:20:04.763372Z",
     "iopub.status.busy": "2024-03-17T14:20:04.762705Z",
     "iopub.status.idle": "2024-03-17T14:20:04.772610Z",
     "shell.execute_reply": "2024-03-17T14:20:04.771429Z"
    },
    "papermill": {
     "duration": 0.045825,
     "end_time": "2024-03-17T14:20:04.776354",
     "exception": false,
     "start_time": "2024-03-17T14:20:04.730529",
     "status": "completed"
    },
    "tags": []
   },
   "outputs": [
    {
     "data": {
      "text/plain": [
       "array([80.])"
      ]
     },
     "execution_count": 29,
     "metadata": {},
     "output_type": "execute_result"
    }
   ],
   "source": [
    "lr.predict([X_test_poly[0,:]])"
   ]
  },
  {
   "cell_type": "code",
   "execution_count": 30,
   "id": "1ebef360",
   "metadata": {
    "execution": {
     "iopub.execute_input": "2024-03-17T14:20:04.822221Z",
     "iopub.status.busy": "2024-03-17T14:20:04.821849Z",
     "iopub.status.idle": "2024-03-17T14:20:04.839827Z",
     "shell.execute_reply": "2024-03-17T14:20:04.838382Z"
    },
    "papermill": {
     "duration": 0.037908,
     "end_time": "2024-03-17T14:20:04.843815",
     "exception": false,
     "start_time": "2024-03-17T14:20:04.805907",
     "status": "completed"
    },
    "tags": []
   },
   "outputs": [
    {
     "data": {
      "text/plain": [
       "array([ 80.,  40., 120., ...,  32.,  63., 180.])"
      ]
     },
     "execution_count": 30,
     "metadata": {},
     "output_type": "execute_result"
    }
   ],
   "source": [
    "y_pred1=lr.predict(X_test_poly)\n",
    "y_pred1"
   ]
  },
  {
   "cell_type": "code",
   "execution_count": 31,
   "id": "a1111e09",
   "metadata": {
    "execution": {
     "iopub.execute_input": "2024-03-17T14:20:04.907094Z",
     "iopub.status.busy": "2024-03-17T14:20:04.906401Z",
     "iopub.status.idle": "2024-03-17T14:20:04.920146Z",
     "shell.execute_reply": "2024-03-17T14:20:04.918708Z"
    },
    "papermill": {
     "duration": 0.050368,
     "end_time": "2024-03-17T14:20:04.924469",
     "exception": false,
     "start_time": "2024-03-17T14:20:04.874101",
     "status": "completed"
    },
    "tags": []
   },
   "outputs": [
    {
     "data": {
      "text/plain": [
       "2435     80.00\n",
       "3113     40.00\n",
       "426     120.00\n",
       "1124     79.00\n",
       "1161     45.00\n",
       "         ...  \n",
       "2078     28.34\n",
       "6855     84.00\n",
       "4381     32.00\n",
       "3862     63.00\n",
       "43      180.00\n",
       "Name: price, Length: 1424, dtype: float64"
      ]
     },
     "execution_count": 31,
     "metadata": {},
     "output_type": "execute_result"
    }
   ],
   "source": [
    "y_test"
   ]
  },
  {
   "cell_type": "code",
   "execution_count": 32,
   "id": "5c14ae1a",
   "metadata": {
    "execution": {
     "iopub.execute_input": "2024-03-17T14:20:04.971364Z",
     "iopub.status.busy": "2024-03-17T14:20:04.970979Z",
     "iopub.status.idle": "2024-03-17T14:20:04.979095Z",
     "shell.execute_reply": "2024-03-17T14:20:04.978040Z"
    },
    "papermill": {
     "duration": 0.027456,
     "end_time": "2024-03-17T14:20:04.982574",
     "exception": false,
     "start_time": "2024-03-17T14:20:04.955118",
     "status": "completed"
    },
    "tags": []
   },
   "outputs": [
    {
     "data": {
      "text/plain": [
       "(4211.806905823323, 64.89843531105602)"
      ]
     },
     "execution_count": 32,
     "metadata": {},
     "output_type": "execute_result"
    }
   ],
   "source": [
    "from sklearn.metrics import mean_squared_error\n",
    "mse = mean_squared_error(y_test,y_pred)\n",
    "rmse = np.sqrt(mse)\n",
    "mse,rmse"
   ]
  }
 ],
 "metadata": {
  "kaggle": {
   "accelerator": "none",
   "dataSources": [
    {
     "datasetId": 1133543,
     "sourceId": 1901900,
     "sourceType": "datasetVersion"
    }
   ],
   "dockerImageVersionId": 30664,
   "isGpuEnabled": false,
   "isInternetEnabled": true,
   "language": "python",
   "sourceType": "notebook"
  },
  "kernelspec": {
   "display_name": "Python 3",
   "language": "python",
   "name": "python3"
  },
  "language_info": {
   "codemirror_mode": {
    "name": "ipython",
    "version": 3
   },
   "file_extension": ".py",
   "mimetype": "text/x-python",
   "name": "python",
   "nbconvert_exporter": "python",
   "pygments_lexer": "ipython3",
   "version": "3.10.13"
  },
  "papermill": {
   "default_parameters": {},
   "duration": 61.951908,
   "end_time": "2024-03-17T14:20:05.618823",
   "environment_variables": {},
   "exception": null,
   "input_path": "__notebook__.ipynb",
   "output_path": "__notebook__.ipynb",
   "parameters": {},
   "start_time": "2024-03-17T14:19:03.666915",
   "version": "2.5.0"
  }
 },
 "nbformat": 4,
 "nbformat_minor": 5
}
